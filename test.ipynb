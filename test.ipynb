{
 "cells": [
  {
   "cell_type": "code",
   "execution_count": 1,
   "id": "initial_id",
   "metadata": {
    "ExecuteTime": {
     "end_time": "2023-12-21T11:37:07.103234542Z",
     "start_time": "2023-12-21T11:37:06.518319903Z"
    }
   },
   "outputs": [],
   "source": [
    "import numpy as np\n",
    "import pandas as pd\n",
    "from sqlalchemy import create_engine"
   ]
  },
  {
   "cell_type": "code",
   "execution_count": 9,
   "id": "e6207c0f4eda1921",
   "metadata": {
    "ExecuteTime": {
     "end_time": "2023-12-21T11:37:23.027964004Z",
     "start_time": "2023-12-21T11:37:18.848641462Z"
    }
   },
   "outputs": [],
   "source": [
    "# df = pd.read_csv('/home/biniyam/dwh-project-UAV/data/week2data.csv', sep=\"[,;:]\") \n",
    "\n",
    "with open ('/home/biniyam/dwh-project-UAV/data/week2data.csv') as file:\n",
    "    lines = file.readlines()\n",
    "\n",
    "    "
   ]
  },
  {
   "cell_type": "code",
   "execution_count": 10,
   "id": "80bfe2cc",
   "metadata": {
    "ExecuteTime": {
     "end_time": "2023-12-21T11:37:26.647277104Z",
     "start_time": "2023-12-21T11:37:26.578028625Z"
    }
   },
   "outputs": [
    {
     "data": {
      "text/plain": [
       "'track_id; type; traveled_d; avg_speed; lat; lon; speed; lon_acc; lat_acc; time\\n'"
      ]
     },
     "execution_count": 10,
     "metadata": {},
     "output_type": "execute_result"
    }
   ],
   "source": [
    "lines[0]"
   ]
  },
  {
   "cell_type": "code",
   "execution_count": 11,
   "id": "39c921e0",
   "metadata": {
    "ExecuteTime": {
     "end_time": "2023-12-20T12:33:49.713373029Z",
     "start_time": "2023-12-20T12:33:49.670253147Z"
    }
   },
   "outputs": [],
   "source": [
    "lines_as_lists = [line.strip('\\n').strip().strip(';').split(';') for line in lines]\n",
    "cols = lines_as_lists.pop(0)"
   ]
  },
  {
   "cell_type": "code",
   "execution_count": 12,
   "id": "b239fdd7b4c03f0a",
   "metadata": {
    "ExecuteTime": {
     "end_time": "2023-12-20T12:35:49.987790012Z",
     "start_time": "2023-12-20T12:35:49.963175617Z"
    },
    "collapsed": false
   },
   "outputs": [
    {
     "name": "stdout",
     "output_type": "stream",
     "text": [
      "['track_id', ' type', ' traveled_d', ' avg_speed']\n",
      "['track_id', ' lat', ' lon', ' speed', ' lon_acc', ' lat_acc', ' time']\n"
     ]
    }
   ],
   "source": [
    "vehicle_col = cols[:4]\n",
    "trejictory_col = ['track_id'] + cols[4:]\n",
    "\n",
    "print(vehicle_col)\n",
    "print(trejictory_col)"
   ]
  },
  {
   "cell_type": "code",
   "execution_count": 13,
   "id": "99bf54dbcd8dd72e",
   "metadata": {
    "ExecuteTime": {
     "end_time": "2023-12-20T12:35:50.348200141Z",
     "start_time": "2023-12-20T12:35:50.336719078Z"
    },
    "collapsed": false
   },
   "outputs": [],
   "source": [
    "track_info = []\n",
    "trajectory_info = []\n",
    "\n",
    "for row in lines_as_lists:\n",
    "    track_id = row[0]\n",
    "    track_info.append(row[:4])\n",
    "    remaining_values = row[4:]\n",
    "    trajectory_matrix = [ [track_id] + remaining_values[i:i+6] for i in range(0,len(remaining_values),6)]\n",
    "    trajectory_info = trajectory_info + trajectory_matrix"
   ]
  },
  {
   "cell_type": "code",
   "execution_count": 14,
   "id": "4b00f2013e22a88f",
   "metadata": {
    "ExecuteTime": {
     "end_time": "2023-12-20T12:38:54.910324392Z",
     "start_time": "2023-12-20T12:38:54.864838155Z"
    },
    "collapsed": false
   },
   "outputs": [],
   "source": [
    "vehicle_data = pd.DataFrame(track_info, columns=vehicle_col)\n",
    "trajectory_data = pd.DataFrame(trajectory_info, columns=trejictory_col)\n"
   ]
  },
  {
   "cell_type": "code",
   "execution_count": 15,
   "id": "b6427633702dec6c",
   "metadata": {
    "ExecuteTime": {
     "end_time": "2023-12-20T12:43:24.018548647Z",
     "start_time": "2023-12-20T12:43:23.820641135Z"
    },
    "collapsed": false
   },
   "outputs": [
    {
     "data": {
      "text/html": [
       "<div>\n",
       "<style scoped>\n",
       "    .dataframe tbody tr th:only-of-type {\n",
       "        vertical-align: middle;\n",
       "    }\n",
       "\n",
       "    .dataframe tbody tr th {\n",
       "        vertical-align: top;\n",
       "    }\n",
       "\n",
       "    .dataframe thead th {\n",
       "        text-align: right;\n",
       "    }\n",
       "</style>\n",
       "<table border=\"1\" class=\"dataframe\">\n",
       "  <thead>\n",
       "    <tr style=\"text-align: right;\">\n",
       "      <th></th>\n",
       "      <th>track_id</th>\n",
       "      <th>type</th>\n",
       "      <th>traveled_d</th>\n",
       "      <th>avg_speed</th>\n",
       "    </tr>\n",
       "  </thead>\n",
       "  <tbody>\n",
       "    <tr>\n",
       "      <th>0</th>\n",
       "      <td>1</td>\n",
       "      <td>Car</td>\n",
       "      <td>48.85</td>\n",
       "      <td>9.770344</td>\n",
       "    </tr>\n",
       "    <tr>\n",
       "      <th>1</th>\n",
       "      <td>2</td>\n",
       "      <td>Motorcycle</td>\n",
       "      <td>98.09</td>\n",
       "      <td>19.839417</td>\n",
       "    </tr>\n",
       "    <tr>\n",
       "      <th>2</th>\n",
       "      <td>3</td>\n",
       "      <td>Motorcycle</td>\n",
       "      <td>63.80</td>\n",
       "      <td>18.228752</td>\n",
       "    </tr>\n",
       "    <tr>\n",
       "      <th>3</th>\n",
       "      <td>4</td>\n",
       "      <td>Motorcycle</td>\n",
       "      <td>145.72</td>\n",
       "      <td>26.229014</td>\n",
       "    </tr>\n",
       "    <tr>\n",
       "      <th>4</th>\n",
       "      <td>5</td>\n",
       "      <td>Motorcycle</td>\n",
       "      <td>138.01</td>\n",
       "      <td>24.841425</td>\n",
       "    </tr>\n",
       "    <tr>\n",
       "      <th>5</th>\n",
       "      <td>6</td>\n",
       "      <td>Medium Vehicle</td>\n",
       "      <td>159.97</td>\n",
       "      <td>17.451502</td>\n",
       "    </tr>\n",
       "    <tr>\n",
       "      <th>6</th>\n",
       "      <td>7</td>\n",
       "      <td>Motorcycle</td>\n",
       "      <td>153.91</td>\n",
       "      <td>22.895895</td>\n",
       "    </tr>\n",
       "    <tr>\n",
       "      <th>7</th>\n",
       "      <td>8</td>\n",
       "      <td>Car</td>\n",
       "      <td>158.21</td>\n",
       "      <td>21.739084</td>\n",
       "    </tr>\n",
       "    <tr>\n",
       "      <th>8</th>\n",
       "      <td>9</td>\n",
       "      <td>Car</td>\n",
       "      <td>161.01</td>\n",
       "      <td>21.154471</td>\n",
       "    </tr>\n",
       "    <tr>\n",
       "      <th>9</th>\n",
       "      <td>10</td>\n",
       "      <td>Car</td>\n",
       "      <td>159.53</td>\n",
       "      <td>18.891989</td>\n",
       "    </tr>\n",
       "  </tbody>\n",
       "</table>\n",
       "</div>"
      ],
      "text/plain": [
       "  track_id             type  traveled_d   avg_speed\n",
       "0        1              Car       48.85    9.770344\n",
       "1        2       Motorcycle       98.09   19.839417\n",
       "2        3       Motorcycle       63.80   18.228752\n",
       "3        4       Motorcycle      145.72   26.229014\n",
       "4        5       Motorcycle      138.01   24.841425\n",
       "5        6   Medium Vehicle      159.97   17.451502\n",
       "6        7       Motorcycle      153.91   22.895895\n",
       "7        8              Car      158.21   21.739084\n",
       "8        9              Car      161.01   21.154471\n",
       "9       10              Car      159.53   18.891989"
      ]
     },
     "execution_count": 15,
     "metadata": {},
     "output_type": "execute_result"
    }
   ],
   "source": [
    "vehicle_data.head(10)"
   ]
  },
  {
   "cell_type": "code",
   "execution_count": 16,
   "id": "e3efc6a012f5bf59",
   "metadata": {
    "collapsed": false
   },
   "outputs": [
    {
     "data": {
      "text/html": [
       "<div>\n",
       "<style scoped>\n",
       "    .dataframe tbody tr th:only-of-type {\n",
       "        vertical-align: middle;\n",
       "    }\n",
       "\n",
       "    .dataframe tbody tr th {\n",
       "        vertical-align: top;\n",
       "    }\n",
       "\n",
       "    .dataframe thead th {\n",
       "        text-align: right;\n",
       "    }\n",
       "</style>\n",
       "<table border=\"1\" class=\"dataframe\">\n",
       "  <thead>\n",
       "    <tr style=\"text-align: right;\">\n",
       "      <th></th>\n",
       "      <th>track_id</th>\n",
       "      <th>lat</th>\n",
       "      <th>lon</th>\n",
       "      <th>speed</th>\n",
       "      <th>lon_acc</th>\n",
       "      <th>lat_acc</th>\n",
       "      <th>time</th>\n",
       "    </tr>\n",
       "  </thead>\n",
       "  <tbody>\n",
       "    <tr>\n",
       "      <th>0</th>\n",
       "      <td>1</td>\n",
       "      <td>37.977391</td>\n",
       "      <td>23.737688</td>\n",
       "      <td>4.9178</td>\n",
       "      <td>0.0518</td>\n",
       "      <td>-0.0299</td>\n",
       "      <td>0.000000</td>\n",
       "    </tr>\n",
       "    <tr>\n",
       "      <th>1</th>\n",
       "      <td>1</td>\n",
       "      <td>37.977391</td>\n",
       "      <td>23.737688</td>\n",
       "      <td>4.9207</td>\n",
       "      <td>-0.0124</td>\n",
       "      <td>-0.0354</td>\n",
       "      <td>0.040000</td>\n",
       "    </tr>\n",
       "    <tr>\n",
       "      <th>2</th>\n",
       "      <td>1</td>\n",
       "      <td>37.977391</td>\n",
       "      <td>23.737688</td>\n",
       "      <td>4.9160</td>\n",
       "      <td>-0.0519</td>\n",
       "      <td>-0.0413</td>\n",
       "      <td>0.080000</td>\n",
       "    </tr>\n",
       "    <tr>\n",
       "      <th>3</th>\n",
       "      <td>1</td>\n",
       "      <td>37.977390</td>\n",
       "      <td>23.737688</td>\n",
       "      <td>4.9057</td>\n",
       "      <td>-0.0914</td>\n",
       "      <td>-0.0478</td>\n",
       "      <td>0.120000</td>\n",
       "    </tr>\n",
       "    <tr>\n",
       "      <th>4</th>\n",
       "      <td>1</td>\n",
       "      <td>37.977390</td>\n",
       "      <td>23.737689</td>\n",
       "      <td>4.8871</td>\n",
       "      <td>-0.1679</td>\n",
       "      <td>-0.0550</td>\n",
       "      <td>0.160000</td>\n",
       "    </tr>\n",
       "    <tr>\n",
       "      <th>5</th>\n",
       "      <td>1</td>\n",
       "      <td>37.977389</td>\n",
       "      <td>23.737689</td>\n",
       "      <td>4.8547</td>\n",
       "      <td>-0.2815</td>\n",
       "      <td>-0.0628</td>\n",
       "      <td>0.200000</td>\n",
       "    </tr>\n",
       "    <tr>\n",
       "      <th>6</th>\n",
       "      <td>1</td>\n",
       "      <td>37.977389</td>\n",
       "      <td>23.737689</td>\n",
       "      <td>4.8033</td>\n",
       "      <td>-0.4320</td>\n",
       "      <td>-0.0713</td>\n",
       "      <td>0.240000</td>\n",
       "    </tr>\n",
       "    <tr>\n",
       "      <th>7</th>\n",
       "      <td>1</td>\n",
       "      <td>37.977388</td>\n",
       "      <td>23.737690</td>\n",
       "      <td>4.7318</td>\n",
       "      <td>-0.5617</td>\n",
       "      <td>-0.0804</td>\n",
       "      <td>0.280000</td>\n",
       "    </tr>\n",
       "    <tr>\n",
       "      <th>8</th>\n",
       "      <td>1</td>\n",
       "      <td>37.977388</td>\n",
       "      <td>23.737690</td>\n",
       "      <td>4.6442</td>\n",
       "      <td>-0.6543</td>\n",
       "      <td>-0.0905</td>\n",
       "      <td>0.320000</td>\n",
       "    </tr>\n",
       "    <tr>\n",
       "      <th>9</th>\n",
       "      <td>1</td>\n",
       "      <td>37.977388</td>\n",
       "      <td>23.737690</td>\n",
       "      <td>4.5437</td>\n",
       "      <td>-0.7413</td>\n",
       "      <td>-0.1017</td>\n",
       "      <td>0.360000</td>\n",
       "    </tr>\n",
       "  </tbody>\n",
       "</table>\n",
       "</div>"
      ],
      "text/plain": [
       "  track_id         lat         lon    speed   lon_acc   lat_acc       time\n",
       "0        1   37.977391   23.737688   4.9178    0.0518   -0.0299   0.000000\n",
       "1        1   37.977391   23.737688   4.9207   -0.0124   -0.0354   0.040000\n",
       "2        1   37.977391   23.737688   4.9160   -0.0519   -0.0413   0.080000\n",
       "3        1   37.977390   23.737688   4.9057   -0.0914   -0.0478   0.120000\n",
       "4        1   37.977390   23.737689   4.8871   -0.1679   -0.0550   0.160000\n",
       "5        1   37.977389   23.737689   4.8547   -0.2815   -0.0628   0.200000\n",
       "6        1   37.977389   23.737689   4.8033   -0.4320   -0.0713   0.240000\n",
       "7        1   37.977388   23.737690   4.7318   -0.5617   -0.0804   0.280000\n",
       "8        1   37.977388   23.737690   4.6442   -0.6543   -0.0905   0.320000\n",
       "9        1   37.977388   23.737690   4.5437   -0.7413   -0.1017   0.360000"
      ]
     },
     "execution_count": 16,
     "metadata": {},
     "output_type": "execute_result"
    }
   ],
   "source": [
    "trajectory_data.head(10)"
   ]
  },
  {
   "cell_type": "code",
   "execution_count": 17,
   "id": "e698bd82",
   "metadata": {},
   "outputs": [
    {
     "data": {
      "text/plain": [
       "(1446887, 7)"
      ]
     },
     "execution_count": 17,
     "metadata": {},
     "output_type": "execute_result"
    }
   ],
   "source": [
    "trajectory_data.shape"
   ]
  },
  {
   "cell_type": "code",
   "execution_count": 18,
   "id": "324388ac",
   "metadata": {},
   "outputs": [
    {
     "data": {
      "text/plain": [
       "(922, 4)"
      ]
     },
     "execution_count": 18,
     "metadata": {},
     "output_type": "execute_result"
    }
   ],
   "source": [
    "vehicle_data.shape"
   ]
  },
  {
   "cell_type": "code",
   "execution_count": 19,
   "id": "3331648a",
   "metadata": {},
   "outputs": [
    {
     "name": "stdout",
     "output_type": "stream",
     "text": [
      "<class 'pandas.core.frame.DataFrame'>\n",
      "RangeIndex: 1446887 entries, 0 to 1446886\n",
      "Data columns (total 7 columns):\n",
      " #   Column    Non-Null Count    Dtype \n",
      "---  ------    --------------    ----- \n",
      " 0   track_id  1446887 non-null  object\n",
      " 1    lat      1446887 non-null  object\n",
      " 2    lon      1446887 non-null  object\n",
      " 3    speed    1446887 non-null  object\n",
      " 4    lon_acc  1446887 non-null  object\n",
      " 5    lat_acc  1446887 non-null  object\n",
      " 6    time     1446887 non-null  object\n",
      "dtypes: object(7)\n",
      "memory usage: 77.3+ MB\n"
     ]
    }
   ],
   "source": [
    "trajectory_data.info()"
   ]
  },
  {
   "cell_type": "code",
   "execution_count": 21,
   "id": "57c8e134",
   "metadata": {},
   "outputs": [
    {
     "data": {
      "text/plain": [
       "track_id    0\n",
       " lat        0\n",
       " lon        0\n",
       " speed      0\n",
       " lon_acc    0\n",
       " lat_acc    0\n",
       " time       0\n",
       "dtype: int64"
      ]
     },
     "execution_count": 21,
     "metadata": {},
     "output_type": "execute_result"
    }
   ],
   "source": [
    "\n",
    "trajectory_data.isnull().sum()"
   ]
  },
  {
   "cell_type": "code",
   "execution_count": null,
   "id": "5b304c4c",
   "metadata": {},
   "outputs": [],
   "source": []
  }
 ],
 "metadata": {
  "kernelspec": {
   "display_name": "Python 3 (ipykernel)",
   "language": "python",
   "name": "python3"
  },
  "language_info": {
   "codemirror_mode": {
    "name": "ipython",
    "version": 3
   },
   "file_extension": ".py",
   "mimetype": "text/x-python",
   "name": "python",
   "nbconvert_exporter": "python",
   "pygments_lexer": "ipython3",
   "version": "3.11.5"
  }
 },
 "nbformat": 4,
 "nbformat_minor": 5
}
